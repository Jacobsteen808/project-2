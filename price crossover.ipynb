{
 "cells": [
  {
   "cell_type": "code",
   "execution_count": 38,
   "metadata": {},
   "outputs": [],
   "source": [
    "import yfinance as yf\n",
    "import ta\n",
    "import pandas as pd\n",
    "from backtesting import Backtest, Strategy\n",
    "from backtesting.lib import crossover"
   ]
  },
  {
   "cell_type": "code",
   "execution_count": 171,
   "metadata": {},
   "outputs": [],
   "source": [
    "class pricecross(Strategy):\n",
    "\n",
    "    n1 = 2\n",
    "\n",
    "    def init(self):\n",
    "        close = self.data.Close\n",
    "        self.ema = self.I(ta.trend.ema_indicator, pd.Series(close), self.n1)\n",
    "\n",
    "    def next(self):\n",
    "        if crossover(df['Close'], self.ema):\n",
    "            self.buy()\n",
    "        elif crossover(self.ema, df['Close']):\n",
    "            self.sell()"
   ]
  },
  {
   "cell_type": "code",
   "execution_count": 176,
   "metadata": {},
   "outputs": [
    {
     "name": "stdout",
     "output_type": "stream",
     "text": [
      "[*********************100%%**********************]  1 of 1 completed\n"
     ]
    }
   ],
   "source": [
    "df = yf.download('ETH-USD', interval='5m', period='7D')"
   ]
  },
  {
   "cell_type": "code",
   "execution_count": 177,
   "metadata": {},
   "outputs": [
    {
     "data": {
      "text/html": [
       "<div>\n",
       "<style scoped>\n",
       "    .dataframe tbody tr th:only-of-type {\n",
       "        vertical-align: middle;\n",
       "    }\n",
       "\n",
       "    .dataframe tbody tr th {\n",
       "        vertical-align: top;\n",
       "    }\n",
       "\n",
       "    .dataframe thead th {\n",
       "        text-align: right;\n",
       "    }\n",
       "</style>\n",
       "<table border=\"1\" class=\"dataframe\">\n",
       "  <thead>\n",
       "    <tr style=\"text-align: right;\">\n",
       "      <th></th>\n",
       "      <th>Open</th>\n",
       "      <th>High</th>\n",
       "      <th>Low</th>\n",
       "      <th>Close</th>\n",
       "      <th>Adj Close</th>\n",
       "      <th>Volume</th>\n",
       "    </tr>\n",
       "    <tr>\n",
       "      <th>Datetime</th>\n",
       "      <th></th>\n",
       "      <th></th>\n",
       "      <th></th>\n",
       "      <th></th>\n",
       "      <th></th>\n",
       "      <th></th>\n",
       "    </tr>\n",
       "  </thead>\n",
       "  <tbody>\n",
       "    <tr>\n",
       "      <th>2023-12-30 00:00:00+00:00</th>\n",
       "      <td>2300.399658</td>\n",
       "      <td>2300.399658</td>\n",
       "      <td>2296.953613</td>\n",
       "      <td>2296.953613</td>\n",
       "      <td>2296.953613</td>\n",
       "      <td>0</td>\n",
       "    </tr>\n",
       "    <tr>\n",
       "      <th>2023-12-30 00:05:00+00:00</th>\n",
       "      <td>2296.880859</td>\n",
       "      <td>2299.233887</td>\n",
       "      <td>2296.880859</td>\n",
       "      <td>2299.233887</td>\n",
       "      <td>2299.233887</td>\n",
       "      <td>0</td>\n",
       "    </tr>\n",
       "    <tr>\n",
       "      <th>2023-12-30 00:10:00+00:00</th>\n",
       "      <td>2299.263916</td>\n",
       "      <td>2300.287109</td>\n",
       "      <td>2299.186768</td>\n",
       "      <td>2300.287109</td>\n",
       "      <td>2300.287109</td>\n",
       "      <td>0</td>\n",
       "    </tr>\n",
       "    <tr>\n",
       "      <th>2023-12-30 00:15:00+00:00</th>\n",
       "      <td>2300.000000</td>\n",
       "      <td>2303.160645</td>\n",
       "      <td>2300.000000</td>\n",
       "      <td>2303.160645</td>\n",
       "      <td>2303.160645</td>\n",
       "      <td>0</td>\n",
       "    </tr>\n",
       "    <tr>\n",
       "      <th>2023-12-30 00:20:00+00:00</th>\n",
       "      <td>2302.080811</td>\n",
       "      <td>2303.756104</td>\n",
       "      <td>2302.080811</td>\n",
       "      <td>2303.634277</td>\n",
       "      <td>2303.634277</td>\n",
       "      <td>0</td>\n",
       "    </tr>\n",
       "  </tbody>\n",
       "</table>\n",
       "</div>"
      ],
      "text/plain": [
       "                                  Open         High          Low        Close  \\\n",
       "Datetime                                                                        \n",
       "2023-12-30 00:00:00+00:00  2300.399658  2300.399658  2296.953613  2296.953613   \n",
       "2023-12-30 00:05:00+00:00  2296.880859  2299.233887  2296.880859  2299.233887   \n",
       "2023-12-30 00:10:00+00:00  2299.263916  2300.287109  2299.186768  2300.287109   \n",
       "2023-12-30 00:15:00+00:00  2300.000000  2303.160645  2300.000000  2303.160645   \n",
       "2023-12-30 00:20:00+00:00  2302.080811  2303.756104  2302.080811  2303.634277   \n",
       "\n",
       "                             Adj Close  Volume  \n",
       "Datetime                                        \n",
       "2023-12-30 00:00:00+00:00  2296.953613       0  \n",
       "2023-12-30 00:05:00+00:00  2299.233887       0  \n",
       "2023-12-30 00:10:00+00:00  2300.287109       0  \n",
       "2023-12-30 00:15:00+00:00  2303.160645       0  \n",
       "2023-12-30 00:20:00+00:00  2303.634277       0  "
      ]
     },
     "execution_count": 177,
     "metadata": {},
     "output_type": "execute_result"
    }
   ],
   "source": [
    "df.head()"
   ]
  },
  {
   "cell_type": "code",
   "execution_count": 178,
   "metadata": {},
   "outputs": [
    {
     "name": "stderr",
     "output_type": "stream",
     "text": [
      "C:\\Users\\jacob\\AppData\\Local\\Packages\\PythonSoftwareFoundation.Python.3.12_qbz5n2kfra8p0\\LocalCache\\local-packages\\Python312\\site-packages\\backtesting\\_stats.py:122: RuntimeWarning: divide by zero encountered in scalar divide\n",
      "  s.loc['Sortino Ratio'] = np.clip((annualized_return - risk_free_rate) / (np.sqrt(np.mean(day_returns.clip(-np.inf, 0)**2)) * np.sqrt(annual_trading_days)), 0, np.inf)  # noqa: E501\n"
     ]
    }
   ],
   "source": [
    "bt = Backtest(df, pricecross, cash=100000, commission=0.00,\n",
    "exclusive_orders=True)\n",
    "\n",
    "output = bt.run()"
   ]
  },
  {
   "cell_type": "code",
   "execution_count": 179,
   "metadata": {},
   "outputs": [
    {
     "data": {
      "text/plain": [
       "Start                     2023-12-30 00:00...\n",
       "End                       2024-01-05 02:20...\n",
       "Duration                      6 days 02:20:00\n",
       "Exposure Time [%]                   26.124075\n",
       "Equity Final [$]                107190.586914\n",
       "Equity Peak [$]                 107618.314453\n",
       "Return [%]                           7.190587\n",
       "Buy & Hold Return [%]               -2.241856\n",
       "Return (Ann.) [%]                 3636.404051\n",
       "Volatility (Ann.) [%]             1137.288037\n",
       "Sharpe Ratio                         3.197435\n",
       "Sortino Ratio                             inf\n",
       "Calmar Ratio                      1572.468762\n",
       "Max. Drawdown [%]                   -2.312545\n",
       "Avg. Drawdown [%]                    -0.73161\n",
       "Max. Drawdown Duration        1 days 00:55:00\n",
       "Avg. Drawdown Duration        0 days 04:45:00\n",
       "# Trades                                    8\n",
       "Win Rate [%]                             62.5\n",
       "Best Trade [%]                       5.358197\n",
       "Worst Trade [%]                     -0.175231\n",
       "Avg. Trade [%]                       0.864101\n",
       "Max. Trade Duration           0 days 18:40:00\n",
       "Avg. Trade Duration           0 days 04:47:00\n",
       "Profit Factor                       25.859063\n",
       "Expectancy [%]                       0.878582\n",
       "SQN                                   1.36191\n",
       "_strategy                          pricecross\n",
       "_equity_curve                             ...\n",
       "_trades                      Size  EntryBa...\n",
       "dtype: object"
      ]
     },
     "execution_count": 179,
     "metadata": {},
     "output_type": "execute_result"
    }
   ],
   "source": [
    "output"
   ]
  },
  {
   "cell_type": "code",
   "execution_count": null,
   "metadata": {},
   "outputs": [],
   "source": []
  }
 ],
 "metadata": {
  "kernelspec": {
   "display_name": "Python 3",
   "language": "python",
   "name": "python3"
  },
  "language_info": {
   "codemirror_mode": {
    "name": "ipython",
    "version": 3
   },
   "file_extension": ".py",
   "mimetype": "text/x-python",
   "name": "python",
   "nbconvert_exporter": "python",
   "pygments_lexer": "ipython3",
   "version": "3.12.1"
  }
 },
 "nbformat": 4,
 "nbformat_minor": 2
}
