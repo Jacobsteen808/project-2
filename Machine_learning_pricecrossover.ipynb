{
 "cells": [
  {
   "cell_type": "code",
   "execution_count": 202,
   "metadata": {},
   "outputs": [],
   "source": [
    "import pandas as pd\n",
    "import yfinance as yf\n",
    "from pandas.tseries.offsets import DateOffset\n",
    "from sklearn.preprocessing import StandardScaler\n",
    "from sklearn import svm\n",
    "from sklearn.metrics import classification_report\n",
    "from pathlib import Path\n",
    "import numpy as np"
   ]
  },
  {
   "cell_type": "code",
   "execution_count": 203,
   "metadata": {},
   "outputs": [
    {
     "name": "stdout",
     "output_type": "stream",
     "text": [
      "[*********************100%%**********************]  1 of 1 completed\n"
     ]
    },
    {
     "data": {
      "text/html": [
       "<div>\n",
       "<style scoped>\n",
       "    .dataframe tbody tr th:only-of-type {\n",
       "        vertical-align: middle;\n",
       "    }\n",
       "\n",
       "    .dataframe tbody tr th {\n",
       "        vertical-align: top;\n",
       "    }\n",
       "\n",
       "    .dataframe thead th {\n",
       "        text-align: right;\n",
       "    }\n",
       "</style>\n",
       "<table border=\"1\" class=\"dataframe\">\n",
       "  <thead>\n",
       "    <tr style=\"text-align: right;\">\n",
       "      <th></th>\n",
       "      <th>Open</th>\n",
       "      <th>High</th>\n",
       "      <th>Low</th>\n",
       "      <th>Close</th>\n",
       "      <th>Adj Close</th>\n",
       "      <th>Volume</th>\n",
       "      <th>actual_returns</th>\n",
       "    </tr>\n",
       "    <tr>\n",
       "      <th>Datetime</th>\n",
       "      <th></th>\n",
       "      <th></th>\n",
       "      <th></th>\n",
       "      <th></th>\n",
       "      <th></th>\n",
       "      <th></th>\n",
       "      <th></th>\n",
       "    </tr>\n",
       "  </thead>\n",
       "  <tbody>\n",
       "    <tr>\n",
       "      <th>2024-01-11 00:01:00+00:00</th>\n",
       "      <td>2581.207520</td>\n",
       "      <td>2581.207520</td>\n",
       "      <td>2581.207520</td>\n",
       "      <td>2581.207520</td>\n",
       "      <td>2581.207520</td>\n",
       "      <td>0</td>\n",
       "      <td>-0.001147</td>\n",
       "    </tr>\n",
       "    <tr>\n",
       "      <th>2024-01-11 00:02:00+00:00</th>\n",
       "      <td>2576.645752</td>\n",
       "      <td>2576.645752</td>\n",
       "      <td>2576.645752</td>\n",
       "      <td>2576.645752</td>\n",
       "      <td>2576.645752</td>\n",
       "      <td>0</td>\n",
       "      <td>-0.001767</td>\n",
       "    </tr>\n",
       "    <tr>\n",
       "      <th>2024-01-11 00:03:00+00:00</th>\n",
       "      <td>2573.117432</td>\n",
       "      <td>2573.117432</td>\n",
       "      <td>2573.117432</td>\n",
       "      <td>2573.117432</td>\n",
       "      <td>2573.117432</td>\n",
       "      <td>0</td>\n",
       "      <td>-0.001369</td>\n",
       "    </tr>\n",
       "    <tr>\n",
       "      <th>2024-01-11 00:04:00+00:00</th>\n",
       "      <td>2581.368652</td>\n",
       "      <td>2581.368652</td>\n",
       "      <td>2581.368652</td>\n",
       "      <td>2581.368652</td>\n",
       "      <td>2581.368652</td>\n",
       "      <td>303104</td>\n",
       "      <td>0.003207</td>\n",
       "    </tr>\n",
       "    <tr>\n",
       "      <th>2024-01-11 00:05:00+00:00</th>\n",
       "      <td>2585.994385</td>\n",
       "      <td>2585.994385</td>\n",
       "      <td>2585.994385</td>\n",
       "      <td>2585.994385</td>\n",
       "      <td>2585.994385</td>\n",
       "      <td>9809920</td>\n",
       "      <td>0.001792</td>\n",
       "    </tr>\n",
       "  </tbody>\n",
       "</table>\n",
       "</div>"
      ],
      "text/plain": [
       "                                  Open         High          Low        Close  \\\n",
       "Datetime                                                                        \n",
       "2024-01-11 00:01:00+00:00  2581.207520  2581.207520  2581.207520  2581.207520   \n",
       "2024-01-11 00:02:00+00:00  2576.645752  2576.645752  2576.645752  2576.645752   \n",
       "2024-01-11 00:03:00+00:00  2573.117432  2573.117432  2573.117432  2573.117432   \n",
       "2024-01-11 00:04:00+00:00  2581.368652  2581.368652  2581.368652  2581.368652   \n",
       "2024-01-11 00:05:00+00:00  2585.994385  2585.994385  2585.994385  2585.994385   \n",
       "\n",
       "                             Adj Close   Volume  actual_returns  \n",
       "Datetime                                                         \n",
       "2024-01-11 00:01:00+00:00  2581.207520        0       -0.001147  \n",
       "2024-01-11 00:02:00+00:00  2576.645752        0       -0.001767  \n",
       "2024-01-11 00:03:00+00:00  2573.117432        0       -0.001369  \n",
       "2024-01-11 00:04:00+00:00  2581.368652   303104        0.003207  \n",
       "2024-01-11 00:05:00+00:00  2585.994385  9809920        0.001792  "
      ]
     },
     "execution_count": 203,
     "metadata": {},
     "output_type": "execute_result"
    }
   ],
   "source": [
    "# Get Data\n",
    "trading_df = yf.download('ETH-USD', interval='1m', period='7D')\n",
    "\n",
    "# Create return column\n",
    "trading_df['actual_returns'] = trading_df['Close'].pct_change()\n",
    "\n",
    "# Review Data\n",
    "trading_df = trading_df.dropna()\n",
    "trading_df.head()"
   ]
  },
  {
   "cell_type": "code",
   "execution_count": 204,
   "metadata": {},
   "outputs": [
    {
     "name": "stderr",
     "output_type": "stream",
     "text": [
      "C:\\Users\\jacob\\AppData\\Local\\Temp\\ipykernel_24640\\1693590975.py:5: SettingWithCopyWarning: \n",
      "A value is trying to be set on a copy of a slice from a DataFrame.\n",
      "Try using .loc[row_indexer,col_indexer] = value instead\n",
      "\n",
      "See the caveats in the documentation: https://pandas.pydata.org/pandas-docs/stable/user_guide/indexing.html#returning-a-view-versus-a-copy\n",
      "  trading_df['MA'] = trading_df['Close'].rolling(window=window).mean()\n"
     ]
    },
    {
     "data": {
      "text/html": [
       "<div>\n",
       "<style scoped>\n",
       "    .dataframe tbody tr th:only-of-type {\n",
       "        vertical-align: middle;\n",
       "    }\n",
       "\n",
       "    .dataframe tbody tr th {\n",
       "        vertical-align: top;\n",
       "    }\n",
       "\n",
       "    .dataframe thead th {\n",
       "        text-align: right;\n",
       "    }\n",
       "</style>\n",
       "<table border=\"1\" class=\"dataframe\">\n",
       "  <thead>\n",
       "    <tr style=\"text-align: right;\">\n",
       "      <th></th>\n",
       "      <th>Open</th>\n",
       "      <th>High</th>\n",
       "      <th>Low</th>\n",
       "      <th>Close</th>\n",
       "      <th>Adj Close</th>\n",
       "      <th>Volume</th>\n",
       "      <th>actual_returns</th>\n",
       "      <th>MA</th>\n",
       "    </tr>\n",
       "    <tr>\n",
       "      <th>Datetime</th>\n",
       "      <th></th>\n",
       "      <th></th>\n",
       "      <th></th>\n",
       "      <th></th>\n",
       "      <th></th>\n",
       "      <th></th>\n",
       "      <th></th>\n",
       "      <th></th>\n",
       "    </tr>\n",
       "  </thead>\n",
       "  <tbody>\n",
       "    <tr>\n",
       "      <th>2024-01-11 00:03:00+00:00</th>\n",
       "      <td>2573.117432</td>\n",
       "      <td>2573.117432</td>\n",
       "      <td>2573.117432</td>\n",
       "      <td>2573.117432</td>\n",
       "      <td>2573.117432</td>\n",
       "      <td>0</td>\n",
       "      <td>-0.001369</td>\n",
       "      <td>2576.990234</td>\n",
       "    </tr>\n",
       "    <tr>\n",
       "      <th>2024-01-11 00:04:00+00:00</th>\n",
       "      <td>2581.368652</td>\n",
       "      <td>2581.368652</td>\n",
       "      <td>2581.368652</td>\n",
       "      <td>2581.368652</td>\n",
       "      <td>2581.368652</td>\n",
       "      <td>303104</td>\n",
       "      <td>0.003207</td>\n",
       "      <td>2577.043945</td>\n",
       "    </tr>\n",
       "    <tr>\n",
       "      <th>2024-01-11 00:05:00+00:00</th>\n",
       "      <td>2585.994385</td>\n",
       "      <td>2585.994385</td>\n",
       "      <td>2585.994385</td>\n",
       "      <td>2585.994385</td>\n",
       "      <td>2585.994385</td>\n",
       "      <td>9809920</td>\n",
       "      <td>0.001792</td>\n",
       "      <td>2580.160156</td>\n",
       "    </tr>\n",
       "    <tr>\n",
       "      <th>2024-01-11 00:06:00+00:00</th>\n",
       "      <td>2588.589111</td>\n",
       "      <td>2588.589111</td>\n",
       "      <td>2588.589111</td>\n",
       "      <td>2588.589111</td>\n",
       "      <td>2588.589111</td>\n",
       "      <td>2574336</td>\n",
       "      <td>0.001003</td>\n",
       "      <td>2585.317383</td>\n",
       "    </tr>\n",
       "    <tr>\n",
       "      <th>2024-01-11 00:07:00+00:00</th>\n",
       "      <td>2592.029541</td>\n",
       "      <td>2592.029541</td>\n",
       "      <td>2592.029541</td>\n",
       "      <td>2592.029541</td>\n",
       "      <td>2592.029541</td>\n",
       "      <td>20742144</td>\n",
       "      <td>0.001329</td>\n",
       "      <td>2588.871012</td>\n",
       "    </tr>\n",
       "  </tbody>\n",
       "</table>\n",
       "</div>"
      ],
      "text/plain": [
       "                                  Open         High          Low        Close  \\\n",
       "Datetime                                                                        \n",
       "2024-01-11 00:03:00+00:00  2573.117432  2573.117432  2573.117432  2573.117432   \n",
       "2024-01-11 00:04:00+00:00  2581.368652  2581.368652  2581.368652  2581.368652   \n",
       "2024-01-11 00:05:00+00:00  2585.994385  2585.994385  2585.994385  2585.994385   \n",
       "2024-01-11 00:06:00+00:00  2588.589111  2588.589111  2588.589111  2588.589111   \n",
       "2024-01-11 00:07:00+00:00  2592.029541  2592.029541  2592.029541  2592.029541   \n",
       "\n",
       "                             Adj Close    Volume  actual_returns           MA  \n",
       "Datetime                                                                       \n",
       "2024-01-11 00:03:00+00:00  2573.117432         0       -0.001369  2576.990234  \n",
       "2024-01-11 00:04:00+00:00  2581.368652    303104        0.003207  2577.043945  \n",
       "2024-01-11 00:05:00+00:00  2585.994385   9809920        0.001792  2580.160156  \n",
       "2024-01-11 00:06:00+00:00  2588.589111   2574336        0.001003  2585.317383  \n",
       "2024-01-11 00:07:00+00:00  2592.029541  20742144        0.001329  2588.871012  "
      ]
     },
     "execution_count": 204,
     "metadata": {},
     "output_type": "execute_result"
    }
   ],
   "source": [
    "# Define window for MA\n",
    "window = 3\n",
    "\n",
    "# Calculate MA\n",
    "trading_df['MA'] = trading_df['Close'].rolling(window=window).mean()\n",
    "\n",
    "#Review Data\n",
    "trading_df = trading_df.dropna()\n",
    "trading_df.head()"
   ]
  },
  {
   "cell_type": "code",
   "execution_count": 205,
   "metadata": {},
   "outputs": [
    {
     "data": {
      "text/html": [
       "<div>\n",
       "<style scoped>\n",
       "    .dataframe tbody tr th:only-of-type {\n",
       "        vertical-align: middle;\n",
       "    }\n",
       "\n",
       "    .dataframe tbody tr th {\n",
       "        vertical-align: top;\n",
       "    }\n",
       "\n",
       "    .dataframe thead th {\n",
       "        text-align: right;\n",
       "    }\n",
       "</style>\n",
       "<table border=\"1\" class=\"dataframe\">\n",
       "  <thead>\n",
       "    <tr style=\"text-align: right;\">\n",
       "      <th></th>\n",
       "      <th>Close</th>\n",
       "      <th>MA</th>\n",
       "    </tr>\n",
       "    <tr>\n",
       "      <th>Datetime</th>\n",
       "      <th></th>\n",
       "      <th></th>\n",
       "    </tr>\n",
       "  </thead>\n",
       "  <tbody>\n",
       "    <tr>\n",
       "      <th>2024-01-17 01:51:00+00:00</th>\n",
       "      <td>2583.278809</td>\n",
       "      <td>2584.069987</td>\n",
       "    </tr>\n",
       "    <tr>\n",
       "      <th>2024-01-17 01:52:00+00:00</th>\n",
       "      <td>2582.692383</td>\n",
       "      <td>2583.329346</td>\n",
       "    </tr>\n",
       "    <tr>\n",
       "      <th>2024-01-17 01:53:00+00:00</th>\n",
       "      <td>2582.392090</td>\n",
       "      <td>2582.787760</td>\n",
       "    </tr>\n",
       "    <tr>\n",
       "      <th>2024-01-17 01:54:00+00:00</th>\n",
       "      <td>2580.847168</td>\n",
       "      <td>2581.977214</td>\n",
       "    </tr>\n",
       "    <tr>\n",
       "      <th>2024-01-17 01:55:00+00:00</th>\n",
       "      <td>2579.475830</td>\n",
       "      <td>2580.905029</td>\n",
       "    </tr>\n",
       "  </tbody>\n",
       "</table>\n",
       "</div>"
      ],
      "text/plain": [
       "                                 Close           MA\n",
       "Datetime                                           \n",
       "2024-01-17 01:51:00+00:00  2583.278809  2584.069987\n",
       "2024-01-17 01:52:00+00:00  2582.692383  2583.329346\n",
       "2024-01-17 01:53:00+00:00  2582.392090  2582.787760\n",
       "2024-01-17 01:54:00+00:00  2580.847168  2581.977214\n",
       "2024-01-17 01:55:00+00:00  2579.475830  2580.905029"
      ]
     },
     "execution_count": 205,
     "metadata": {},
     "output_type": "execute_result"
    }
   ],
   "source": [
    "# Assign copy of close and MA to new df\n",
    "X = trading_df[['Close', 'MA']].shift().dropna().copy()\n",
    "\n",
    "#Review Data\n",
    "X.tail()"
   ]
  },
  {
   "cell_type": "code",
   "execution_count": 206,
   "metadata": {},
   "outputs": [
    {
     "data": {
      "text/html": [
       "<div>\n",
       "<style scoped>\n",
       "    .dataframe tbody tr th:only-of-type {\n",
       "        vertical-align: middle;\n",
       "    }\n",
       "\n",
       "    .dataframe tbody tr th {\n",
       "        vertical-align: top;\n",
       "    }\n",
       "\n",
       "    .dataframe thead th {\n",
       "        text-align: right;\n",
       "    }\n",
       "</style>\n",
       "<table border=\"1\" class=\"dataframe\">\n",
       "  <thead>\n",
       "    <tr style=\"text-align: right;\">\n",
       "      <th></th>\n",
       "      <th>Open</th>\n",
       "      <th>High</th>\n",
       "      <th>Low</th>\n",
       "      <th>Close</th>\n",
       "      <th>Adj Close</th>\n",
       "      <th>Volume</th>\n",
       "      <th>actual_returns</th>\n",
       "      <th>MA</th>\n",
       "      <th>signal</th>\n",
       "    </tr>\n",
       "    <tr>\n",
       "      <th>Datetime</th>\n",
       "      <th></th>\n",
       "      <th></th>\n",
       "      <th></th>\n",
       "      <th></th>\n",
       "      <th></th>\n",
       "      <th></th>\n",
       "      <th></th>\n",
       "      <th></th>\n",
       "      <th></th>\n",
       "    </tr>\n",
       "  </thead>\n",
       "  <tbody>\n",
       "    <tr>\n",
       "      <th>2024-01-11 00:03:00+00:00</th>\n",
       "      <td>2573.117432</td>\n",
       "      <td>2573.117432</td>\n",
       "      <td>2573.117432</td>\n",
       "      <td>2573.117432</td>\n",
       "      <td>2573.117432</td>\n",
       "      <td>0</td>\n",
       "      <td>-0.001369</td>\n",
       "      <td>2576.990234</td>\n",
       "      <td>-1.0</td>\n",
       "    </tr>\n",
       "    <tr>\n",
       "      <th>2024-01-11 00:04:00+00:00</th>\n",
       "      <td>2581.368652</td>\n",
       "      <td>2581.368652</td>\n",
       "      <td>2581.368652</td>\n",
       "      <td>2581.368652</td>\n",
       "      <td>2581.368652</td>\n",
       "      <td>303104</td>\n",
       "      <td>0.003207</td>\n",
       "      <td>2577.043945</td>\n",
       "      <td>1.0</td>\n",
       "    </tr>\n",
       "    <tr>\n",
       "      <th>2024-01-11 00:05:00+00:00</th>\n",
       "      <td>2585.994385</td>\n",
       "      <td>2585.994385</td>\n",
       "      <td>2585.994385</td>\n",
       "      <td>2585.994385</td>\n",
       "      <td>2585.994385</td>\n",
       "      <td>9809920</td>\n",
       "      <td>0.001792</td>\n",
       "      <td>2580.160156</td>\n",
       "      <td>1.0</td>\n",
       "    </tr>\n",
       "    <tr>\n",
       "      <th>2024-01-11 00:06:00+00:00</th>\n",
       "      <td>2588.589111</td>\n",
       "      <td>2588.589111</td>\n",
       "      <td>2588.589111</td>\n",
       "      <td>2588.589111</td>\n",
       "      <td>2588.589111</td>\n",
       "      <td>2574336</td>\n",
       "      <td>0.001003</td>\n",
       "      <td>2585.317383</td>\n",
       "      <td>1.0</td>\n",
       "    </tr>\n",
       "    <tr>\n",
       "      <th>2024-01-11 00:07:00+00:00</th>\n",
       "      <td>2592.029541</td>\n",
       "      <td>2592.029541</td>\n",
       "      <td>2592.029541</td>\n",
       "      <td>2592.029541</td>\n",
       "      <td>2592.029541</td>\n",
       "      <td>20742144</td>\n",
       "      <td>0.001329</td>\n",
       "      <td>2588.871012</td>\n",
       "      <td>1.0</td>\n",
       "    </tr>\n",
       "  </tbody>\n",
       "</table>\n",
       "</div>"
      ],
      "text/plain": [
       "                                  Open         High          Low        Close  \\\n",
       "Datetime                                                                        \n",
       "2024-01-11 00:03:00+00:00  2573.117432  2573.117432  2573.117432  2573.117432   \n",
       "2024-01-11 00:04:00+00:00  2581.368652  2581.368652  2581.368652  2581.368652   \n",
       "2024-01-11 00:05:00+00:00  2585.994385  2585.994385  2585.994385  2585.994385   \n",
       "2024-01-11 00:06:00+00:00  2588.589111  2588.589111  2588.589111  2588.589111   \n",
       "2024-01-11 00:07:00+00:00  2592.029541  2592.029541  2592.029541  2592.029541   \n",
       "\n",
       "                             Adj Close    Volume  actual_returns           MA  \\\n",
       "Datetime                                                                        \n",
       "2024-01-11 00:03:00+00:00  2573.117432         0       -0.001369  2576.990234   \n",
       "2024-01-11 00:04:00+00:00  2581.368652    303104        0.003207  2577.043945   \n",
       "2024-01-11 00:05:00+00:00  2585.994385   9809920        0.001792  2580.160156   \n",
       "2024-01-11 00:06:00+00:00  2588.589111   2574336        0.001003  2585.317383   \n",
       "2024-01-11 00:07:00+00:00  2592.029541  20742144        0.001329  2588.871012   \n",
       "\n",
       "                           signal  \n",
       "Datetime                           \n",
       "2024-01-11 00:03:00+00:00    -1.0  \n",
       "2024-01-11 00:04:00+00:00     1.0  \n",
       "2024-01-11 00:05:00+00:00     1.0  \n",
       "2024-01-11 00:06:00+00:00     1.0  \n",
       "2024-01-11 00:07:00+00:00     1.0  "
      ]
     },
     "execution_count": 206,
     "metadata": {},
     "output_type": "execute_result"
    }
   ],
   "source": [
    "# Create signal column\n",
    "trading_df['signal'] = 0.0\n",
    "\n",
    "# Create buy signal\n",
    "trading_df.loc[(trading_df['MA'] <= trading_df['Close']), 'signal'] = 1\n",
    "\n",
    "# Create sell signal\n",
    "trading_df.loc[(trading_df['MA'] > trading_df['Close']), 'signal'] = -1\n",
    "trading_df.head()"
   ]
  },
  {
   "cell_type": "code",
   "execution_count": 207,
   "metadata": {},
   "outputs": [],
   "source": [
    "# Copy the new \"signal\" column to a new Series called `y`.\n",
    "y = trading_df[\"signal\"].copy()"
   ]
  },
  {
   "cell_type": "code",
   "execution_count": 208,
   "metadata": {},
   "outputs": [
    {
     "name": "stdout",
     "output_type": "stream",
     "text": [
      "2024-01-11 00:04:00+00:00\n"
     ]
    }
   ],
   "source": [
    "# Select the start of the training period\n",
    "training_begin = X.index.min()\n",
    "\n",
    "# Display the training begin date\n",
    "print(training_begin)"
   ]
  },
  {
   "cell_type": "code",
   "execution_count": 209,
   "metadata": {},
   "outputs": [
    {
     "name": "stdout",
     "output_type": "stream",
     "text": [
      "2024-01-13 00:04:00+00:00\n"
     ]
    }
   ],
   "source": [
    "# Select the ending period for the training data with an offset of 18 months\n",
    "training_end = X.index.min() + DateOffset(days=2)\n",
    "\n",
    "# Display the training end date\n",
    "print(training_end)"
   ]
  },
  {
   "cell_type": "code",
   "execution_count": 210,
   "metadata": {},
   "outputs": [],
   "source": [
    "# Generate the X_train and y_train DataFrames\n",
    "X_train = X.loc[training_begin:training_end]\n",
    "y_train = y.loc[training_begin:training_end]"
   ]
  },
  {
   "cell_type": "code",
   "execution_count": 211,
   "metadata": {},
   "outputs": [],
   "source": [
    "# Generate the X_test and y_test DataFrames\n",
    "X_test = X.loc[training_end:]\n",
    "y_test = y.loc[training_end:]"
   ]
  },
  {
   "cell_type": "code",
   "execution_count": 212,
   "metadata": {},
   "outputs": [],
   "source": [
    "# Create a StandardScaler instance\n",
    "scaler = StandardScaler()\n",
    " \n",
    "# Apply the scaler model to fit the X-train data\n",
    "X_scaler = scaler.fit(X_train)\n",
    " \n",
    "# Transform the X_train and X_test DataFrames using the X_scaler\n",
    "X_train_scaled = X_scaler.transform(X_train)\n",
    "X_test_scaled = X_scaler.transform(X_test)"
   ]
  },
  {
   "cell_type": "code",
   "execution_count": 213,
   "metadata": {},
   "outputs": [
    {
     "data": {
      "text/plain": [
       "array([-1.,  1.,  1.,  1.,  1., -1., -1.,  1.,  1.,  1.])"
      ]
     },
     "execution_count": 213,
     "metadata": {},
     "output_type": "execute_result"
    }
   ],
   "source": [
    "# Create the classifier model\n",
    "svm_model = svm.SVC()\n",
    "\n",
    "# Fit the model to the data using X_train_scaled and y_train\n",
    "svm_model = svm_model.fit(X_train_scaled, y_train)\n",
    "\n",
    "# Use the trained model to predict the trading signals for the training data\n",
    "training_signal_predictions = svm_model.predict(X_train_scaled)\n",
    "\n",
    "# Display the sample predictions\n",
    "training_signal_predictions[:10]"
   ]
  },
  {
   "cell_type": "code",
   "execution_count": 214,
   "metadata": {},
   "outputs": [
    {
     "name": "stdout",
     "output_type": "stream",
     "text": [
      "              precision    recall  f1-score   support\n",
      "\n",
      "        -1.0       0.69      0.60      0.64      1386\n",
      "         1.0       0.66      0.74      0.70      1442\n",
      "\n",
      "    accuracy                           0.67      2828\n",
      "   macro avg       0.67      0.67      0.67      2828\n",
      "weighted avg       0.67      0.67      0.67      2828\n",
      "\n"
     ]
    }
   ],
   "source": [
    "# Evaluate the model using a classification report\n",
    "training_report = classification_report(y_train, training_signal_predictions)\n",
    "\n",
    "# Display report\n",
    "print(training_report)"
   ]
  },
  {
   "cell_type": "code",
   "execution_count": 215,
   "metadata": {},
   "outputs": [],
   "source": [
    "# Use the trained model to predict the trading signals for the testing data.\n",
    "testing_signal_predictions = svm_model.predict(X_test_scaled)"
   ]
  },
  {
   "cell_type": "code",
   "execution_count": 216,
   "metadata": {},
   "outputs": [
    {
     "name": "stdout",
     "output_type": "stream",
     "text": [
      "              precision    recall  f1-score   support\n",
      "\n",
      "        -1.0       0.51      0.60      0.56      2801\n",
      "         1.0       0.51      0.42      0.46      2752\n",
      "\n",
      "    accuracy                           0.51      5553\n",
      "   macro avg       0.51      0.51      0.51      5553\n",
      "weighted avg       0.51      0.51      0.51      5553\n",
      "\n"
     ]
    }
   ],
   "source": [
    "# Evaluate the model's ability to predict the trading signal for the testing data\n",
    "testing_report = classification_report(y_test, testing_signal_predictions)\n",
    "\n",
    "# Display the report\n",
    "print(testing_report)"
   ]
  },
  {
   "cell_type": "code",
   "execution_count": 217,
   "metadata": {},
   "outputs": [
    {
     "data": {
      "text/html": [
       "<div>\n",
       "<style scoped>\n",
       "    .dataframe tbody tr th:only-of-type {\n",
       "        vertical-align: middle;\n",
       "    }\n",
       "\n",
       "    .dataframe tbody tr th {\n",
       "        vertical-align: top;\n",
       "    }\n",
       "\n",
       "    .dataframe thead th {\n",
       "        text-align: right;\n",
       "    }\n",
       "</style>\n",
       "<table border=\"1\" class=\"dataframe\">\n",
       "  <thead>\n",
       "    <tr style=\"text-align: right;\">\n",
       "      <th></th>\n",
       "      <th>predicted_signal</th>\n",
       "      <th>actual_returns</th>\n",
       "      <th>trading_algorithm_returns</th>\n",
       "    </tr>\n",
       "    <tr>\n",
       "      <th>Datetime</th>\n",
       "      <th></th>\n",
       "      <th></th>\n",
       "      <th></th>\n",
       "    </tr>\n",
       "  </thead>\n",
       "  <tbody>\n",
       "    <tr>\n",
       "      <th>2024-01-17 01:51:00+00:00</th>\n",
       "      <td>1.0</td>\n",
       "      <td>-0.000227</td>\n",
       "      <td>-0.000227</td>\n",
       "    </tr>\n",
       "    <tr>\n",
       "      <th>2024-01-17 01:52:00+00:00</th>\n",
       "      <td>1.0</td>\n",
       "      <td>-0.000116</td>\n",
       "      <td>-0.000116</td>\n",
       "    </tr>\n",
       "    <tr>\n",
       "      <th>2024-01-17 01:53:00+00:00</th>\n",
       "      <td>1.0</td>\n",
       "      <td>-0.000598</td>\n",
       "      <td>-0.000598</td>\n",
       "    </tr>\n",
       "    <tr>\n",
       "      <th>2024-01-17 01:54:00+00:00</th>\n",
       "      <td>1.0</td>\n",
       "      <td>-0.000531</td>\n",
       "      <td>-0.000531</td>\n",
       "    </tr>\n",
       "    <tr>\n",
       "      <th>2024-01-17 01:55:00+00:00</th>\n",
       "      <td>1.0</td>\n",
       "      <td>0.000510</td>\n",
       "      <td>0.000510</td>\n",
       "    </tr>\n",
       "  </tbody>\n",
       "</table>\n",
       "</div>"
      ],
      "text/plain": [
       "                           predicted_signal  actual_returns  \\\n",
       "Datetime                                                      \n",
       "2024-01-17 01:51:00+00:00               1.0       -0.000227   \n",
       "2024-01-17 01:52:00+00:00               1.0       -0.000116   \n",
       "2024-01-17 01:53:00+00:00               1.0       -0.000598   \n",
       "2024-01-17 01:54:00+00:00               1.0       -0.000531   \n",
       "2024-01-17 01:55:00+00:00               1.0        0.000510   \n",
       "\n",
       "                           trading_algorithm_returns  \n",
       "Datetime                                              \n",
       "2024-01-17 01:51:00+00:00                  -0.000227  \n",
       "2024-01-17 01:52:00+00:00                  -0.000116  \n",
       "2024-01-17 01:53:00+00:00                  -0.000598  \n",
       "2024-01-17 01:54:00+00:00                  -0.000531  \n",
       "2024-01-17 01:55:00+00:00                   0.000510  "
      ]
     },
     "execution_count": 217,
     "metadata": {},
     "output_type": "execute_result"
    }
   ],
   "source": [
    "# Create a predictions DataFrame\n",
    "predictions_df = pd.DataFrame(index=X_test.index)\n",
    "\n",
    "predictions_df[\"predicted_signal\"] = testing_signal_predictions\n",
    "\n",
    "predictions_df[\"actual_returns\"] = trading_df[\"actual_returns\"]\n",
    "\n",
    "predictions_df[\"trading_algorithm_returns\"] = (\n",
    "    predictions_df[\"actual_returns\"] * predictions_df[\"predicted_signal\"]\n",
    ")\n",
    "\n",
    "# Review the DataFrame\n",
    "predictions_df.tail()"
   ]
  },
  {
   "cell_type": "code",
   "execution_count": 218,
   "metadata": {},
   "outputs": [
    {
     "data": {
      "text/plain": [
       "<Axes: xlabel='Datetime'>"
      ]
     },
     "execution_count": 218,
     "metadata": {},
     "output_type": "execute_result"
    },
    {
     "data": {
      "image/png": "[encoded data removed]",
      "text/plain": [
       "<Figure size 640x480 with 1 Axes>"
      ]
     },
     "metadata": {},
     "output_type": "display_data"
    }
   ],
   "source": [
    "(1 + predictions_df[[\"actual_returns\", \"trading_algorithm_returns\"]]).cumprod().plot()"
   ]
  },
  {
   "cell_type": "code",
   "execution_count": 219,
   "metadata": {},
   "outputs": [],
   "source": [
    "# Set the model's file path\n",
    "import numpy as np\n",
    "\n",
    "file_path = \"project-2.npy\"\n",
    "np.save(file_path, testing_signal_predictions)\n"
   ]
  }
 ],
 "metadata": {
  "kernelspec": {
   "display_name": "Python 3",
   "language": "python",
   "name": "python3"
  },
  "language_info": {
   "codemirror_mode": {
    "name": "ipython",
    "version": 3
   },
   "file_extension": ".py",
   "mimetype": "text/x-python",
   "name": "python",
   "nbconvert_exporter": "python",
   "pygments_lexer": "ipython3",
   "version": "3.12.1"
  }
 },
 "nbformat": 4,
 "nbformat_minor": 2
}
